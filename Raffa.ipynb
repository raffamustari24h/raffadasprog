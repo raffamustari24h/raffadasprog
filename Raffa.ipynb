{
 "cells": [
  {
   "cell_type": "code",
   "execution_count": 2,
   "id": "c327c48f",
   "metadata": {},
   "outputs": [
    {
     "name": "stdout",
     "output_type": "stream",
     "text": [
      "Isikan nama anda:rapa\n",
      "Selamat datang rapa\n",
      "urutan angka\n",
      "123\n",
      "A_B_C\n"
     ]
    }
   ],
   "source": [
    "name = input(\"Isikan nama anda:\")\n",
    "print(\"Selamat datang\",name)\n",
    "print(\"urutan angka\")\n",
    "print(\"1\", end='')\n",
    "print(\"2\", end='')\n",
    "print(\"3\")\n",
    "print(\"A\",\"B\",\"C\",sep='_')\n"
   ]
  },
  {
   "cell_type": "code",
   "execution_count": 9,
   "id": "9a4fa26c",
   "metadata": {},
   "outputs": [
    {
     "name": "stdout",
     "output_type": "stream",
     "text": [
      "isikan bilangan 1:1\n",
      "isikan bilangan 2:2\n",
      "hasil perjumlahhan  1 + 2 = 3\n",
      "hasil perjummlahan 1+ 2 =3\n"
     ]
    }
   ],
   "source": [
    "\n",
    "val1 = int(input(\"isikan bilangan 1:\"))\n",
    "val2 = int(input(\"isikan bilangan 2:\"))\n",
    "print(\"hasil perjumlahhan \", val1, \"+\", val2, \"=\", val1 + val2)\n",
    "print(\"hasil perjummlahan {}+ {} ={}\".format(val1,val2,val1+val2))"
   ]
  },
  {
   "cell_type": "code",
   "execution_count": 13,
   "id": "4676b71d",
   "metadata": {},
   "outputs": [
    {
     "name": "stdout",
     "output_type": "stream",
     "text": [
      "Isikan nama awal: oi\n",
      "isikan nama tengah: oi\n",
      "isikan nama akhhir: oi\n",
      "nama lengkap oi oi oi\n",
      "nama lengkap oi oi oi\n",
      "nama lengkap oi oi oi\n"
     ]
    }
   ],
   "source": [
    "fname = input(\"Isikan nama awal: \")\n",
    "Mname = input(\"isikan nama tengah: \")\n",
    "Lname = input(\"isikan nama akhhir: \")\n",
    "print(\"nama lengkap {} {} {}\".format(fname,Mname,Lname))\n",
    "print(\"nama lengkap {1} {0} {2}\".format(fname,Mname,Lname))\n",
    "#menggunakan key variabel\n",
    "print(\"nama lengkap {f} {m} {l}\".format(f=fname,m=Mname,l=Lname))"
   ]
  },
  {
   "cell_type": "code",
   "execution_count": 1,
   "id": "be39dc17",
   "metadata": {},
   "outputs": [
    {
     "name": "stdout",
     "output_type": "stream",
     "text": [
      "masukan nama anda + Gelar:manuk sia hideng\n",
      "karakter ke 1: m\n",
      "karkter 3 samapai 4: nuk sia hideng\n",
      "karkter 2 sampai 4: anu\n",
      "karkter akhir: g\n",
      "karkter terbalik: gnedih ais kunam\n"
     ]
    }
   ],
   "source": [
    "#slicing\n",
    "a =input(\"masukan nama anda + Gelar:\")\n",
    "#mencetak karakter 2\n",
    "print(\"karakter ke 1:\",a[0])\n",
    "#mecetak karakter 3 sampai 4\n",
    "print(\"karkter 3 samapai 4:\",a[2:])\n",
    "#mencetal karakter 2 samaapi 4\n",
    "print(\"karkter 2 sampai 4:\",a[1:4])\n",
    "#mencetak karakter paling akhir\n",
    "print(\"karkter akhir:\",a[-1])\n",
    "#mencetak karakter terbalik\n",
    "print(\"karkter terbalik:\",a[::-1])"
   ]
  },
  {
   "cell_type": "code",
   "execution_count": null,
   "id": "9d2ed03e",
   "metadata": {},
   "outputs": [],
   "source": [
    "nl=\"Rappa mustari e.Kom\"\n",
    "n=nl.split(' ')\n",
    "print(\"Nama awal:\" ,n[0])\n",
    "print(\"Nama akhir:\" ,n[1])\n",
    "print(\"gelar:\", n[2])\n",
    "\n",
    "#find \n",
    "np=\"Rafa123\"\n",
    "c=np.find(\"1\")\n",
    "print(c)\n"
   ]
  },
  {
   "cell_type": "code",
   "execution_count": 3,
   "id": "777a24e2",
   "metadata": {
    "scrolled": true
   },
   "outputs": [
    {
     "name": "stdout",
     "output_type": "stream",
     "text": [
      "masukan nama email andayudagaming@gmail.com\n",
      "Posisi '@' ditemukan di indeks 10\n",
      "Email valid\n"
     ]
    }
   ],
   "source": [
    "#email ngayal\n",
    "e = input(\"masukan nama email anda\")\n",
    "c=e.find(\"@\")\n",
    "if c != -1:\n",
    "    print(f\"Posisi '@' ditemukan di indeks {c}\")\n",
    "else:\n",
    "    print(\"Karakter '@' tidak ditemukan dalam email\")\n",
    "    \n",
    "if c != -1:\n",
    "    print(\"Email valid\")\n",
    "else:\n",
    "    print(\"Email tidak valid\")"
   ]
  },
  {
   "cell_type": "code",
   "execution_count": 2,
   "id": "ad134c0b",
   "metadata": {},
   "outputs": [
    {
     "name": "stdout",
     "output_type": "stream",
     "text": [
      "masukan nama email lo:yudagaming\n",
      "email Punya elo Hoak Anj\n"
     ]
    }
   ],
   "source": [
    "#email tenari\n",
    "e=input(\"masukan nama email lo:\")\n",
    "f = \"VALID COY\" if \"@\" in e and \".\" in e.split(\"@\")[1] else \"Hoak Anj\"\n",
    "print(f\"email Punya elo {f}\")"
   ]
  },
  {
   "cell_type": "code",
   "execution_count": 12,
   "id": "3f50be59",
   "metadata": {},
   "outputs": [
    {
     "name": "stdout",
     "output_type": "stream",
     "text": [
      "Nilai acak pecahan:0.9739120444792274\n",
      "test hoki 0-100: 55\n",
      "hari dapet istri:senin\n",
      "bulan kamu mendapatkan d istri:apr\n",
      "Berapakah hasil68+92?\n",
      "Apa jawaban elo2\n",
      "Goblok sia!\n"
     ]
    }
   ],
   "source": [
    "#mencari angka random di string bilangan\n",
    "from random import random\n",
    "n = random()\n",
    "#fstring\n",
    "print(f\"Nilai acak pecahan:{n}\")\n",
    "\n",
    "from random import randint\n",
    "intN = randint(0,100)\n",
    "print(f\"test hoki 0-100: {intN}\")\n",
    "\n",
    "from random import choice\n",
    "m =[\"jan\",\"feb\",\"mar\",\"apr\",\"mei\",\"juni\",\"juli\",\"agustus\",\"september\"]\n",
    "H =[\"senin\",\"selasa\",\"rabu\",\"kamis\",\"jum'at\",\"sabtu\",\"minggu\"]\n",
    "cH = choice(H)\n",
    "cm = choice(m)\n",
    "print(f\"hari dapet istri:{cH}\")\n",
    "print(f\"bulan kamu mendapatkan istri:{cm}\")\n",
    "\n",
    "n1 = randint(0,100)\n",
    "n2 = randint(0,100)\n",
    "print(f\"Berapakah hasil{n1}+{n2}?\")\n",
    "answer = int(input(\"Apa jawaban elo\"))\n",
    "check =\"Sepuh\" if n1 + n2 == answer else \"Goblok sia!\"\n",
    "print(check)"
   ]
  },
  {
   "cell_type": "code",
   "execution_count": 20,
   "id": "d26ae980",
   "metadata": {},
   "outputs": [
    {
     "ename": "IndentationError",
     "evalue": "unexpected indent (2467843622.py, line 7)",
     "output_type": "error",
     "traceback": [
      "\u001b[1;36m  Input \u001b[1;32mIn [20]\u001b[1;36m\u001b[0m\n\u001b[1;33m    print(check)\u001b[0m\n\u001b[1;37m    ^\u001b[0m\n\u001b[1;31mIndentationError\u001b[0m\u001b[1;31m:\u001b[0m unexpected indent\n"
     ]
    }
   ],
   "source": [
    "from random import choice\n",
    "k =[[\"Cat\",\"Kucing\",\"Dog\",\"anjing\",\"Bird\",\"Burung\"]]\n",
    "cK = choice(k)\n",
    "print(f\"Apa bahasa Indonesia dari: {cK[0]}\")\n",
    "j = input(\"Jawaban elo\")\n",
    "check = \"Lo Benar!!\" if j.lower() == cK[1].lower() else \"Lo Salah, coba lagi!\"\n",
    " print(check)"
   ]
  },
  {
   "cell_type": "code",
   "execution_count": 21,
   "id": "03cd5a6f",
   "metadata": {},
   "outputs": [
    {
     "name": "stdout",
     "output_type": "stream",
     "text": [
      "Apa bahasa Indonesia dari: Bird\n",
      "Jawaban elo: Memek\n",
      "Lo Salah, coba lagi!\n"
     ]
    }
   ],
   "source": [
    "from random import choice\n",
    "\n",
    "# Kamus bahasa Inggris dan bahasa Indonesia\n",
    "k = [[\"Cat\", \"Kucing\"], [\"Dog\", \"Anjing\"], [\"Bird\", \"Burung\"]]\n",
    "\n",
    "# Pilih secara acak pasangan kata dari kamus\n",
    "cK = choice(k)\n",
    "\n",
    "# Tampilkan pertanyaan\n",
    "print(f\"Apa bahasa Indonesia dari: {cK[0]}\")\n",
    "\n",
    "# Ambil jawaban pengguna\n",
    "j = input(\"Jawaban elo: \")\n",
    "\n",
    "# Periksa apakah jawaban benar\n",
    "check = \"Lo Benar!!\" if j.lower() == cK[1].lower() else \"Lo Salah, coba lagi!\"\n",
    "\n",
    "# Tampilkan hasil\n",
    "print(check)\n"
   ]
  },
  {
   "cell_type": "code",
   "execution_count": null,
   "id": "3b51f639",
   "metadata": {},
   "outputs": [],
   "source": []
  }
 ],
 "metadata": {
  "kernelspec": {
   "display_name": "Python 3 (ipykernel)",
   "language": "python",
   "name": "python3"
  },
  "language_info": {
   "codemirror_mode": {
    "name": "ipython",
    "version": 3
   },
   "file_extension": ".py",
   "mimetype": "text/x-python",
   "name": "python",
   "nbconvert_exporter": "python",
   "pygments_lexer": "ipython3",
   "version": "3.9.12"
  }
 },
 "nbformat": 4,
 "nbformat_minor": 5
}
