{
 "cells": [
  {
   "cell_type": "code",
   "execution_count": 32,
   "id": "b244e122",
   "metadata": {},
   "outputs": [],
   "source": [
    "import numpy as np\n",
    "import pandas as pd\n",
    "\n",
    "mat1D = np.array([1,2,3,4,5,6,7,8,9])\n",
    "mat2D = np.array([[1,2,3],[4,5,6],[7,8,9]])\n"
   ]
  },
  {
   "cell_type": "code",
   "execution_count": 33,
   "id": "0aa03d46",
   "metadata": {},
   "outputs": [
    {
     "name": "stdout",
     "output_type": "stream",
     "text": [
      "matriks1D :\n",
      " [1 2 3 4 5 6 7 8 9]\n",
      "matriks1D indeks ke 7 :8\n",
      "matriks1D * 10 : [10 20 30 40 50 60 70 80 90]\n"
     ]
    }
   ],
   "source": [
    "print(f\"matriks1D :\\n {mat1D}\")\n",
    "print(f\"matriks1D indeks ke 7 :{mat1D[7]}\")\n",
    "print(f\"matriks1D * 10 : {mat1D * 10}\")"
   ]
  },
  {
   "cell_type": "code",
   "execution_count": 34,
   "id": "13a284d7",
   "metadata": {},
   "outputs": [
    {
     "name": "stdout",
     "output_type": "stream",
     "text": [
      "matriks2D :\n",
      " [[1 2 3]\n",
      " [4 5 6]\n",
      " [7 8 9]]\n",
      "matriks2D * 10 :\n",
      " [[10 20 30]\n",
      " [40 50 60]\n",
      " [70 80 90]]\n"
     ]
    }
   ],
   "source": [
    "print(f\"matriks2D :\\n {mat2D}\")\n",
    "print(f\"matriks2D * 10 :\\n {mat2D * 10}\")"
   ]
  },
  {
   "cell_type": "code",
   "execution_count": 35,
   "id": "7e47ed9a",
   "metadata": {},
   "outputs": [
    {
     "name": "stdout",
     "output_type": "stream",
     "text": [
      "(9,)\n",
      "(3, 3)\n"
     ]
    }
   ],
   "source": [
    "print(mat1D.shape)\n",
    "print(mat2D.shape)\n"
   ]
  },
  {
   "cell_type": "code",
   "execution_count": 36,
   "id": "319aa933",
   "metadata": {},
   "outputs": [
    {
     "name": "stdout",
     "output_type": "stream",
     "text": [
      "9\n",
      "9\n"
     ]
    }
   ],
   "source": [
    "print(mat1D.size)\n",
    "print(mat2D.size)"
   ]
  },
  {
   "cell_type": "code",
   "execution_count": 37,
   "id": "b2e8c2bb",
   "metadata": {},
   "outputs": [
    {
     "name": "stdout",
     "output_type": "stream",
     "text": [
      "[[0. 0. 0.]\n",
      " [0. 0. 0.]\n",
      " [0. 0. 0.]]\n",
      "[[1. 1. 1. ... 1. 1. 1.]\n",
      " [1. 1. 1. ... 1. 1. 1.]\n",
      " [1. 1. 1. ... 1. 1. 1.]\n",
      " ...\n",
      " [1. 1. 1. ... 1. 1. 1.]\n",
      " [1. 1. 1. ... 1. 1. 1.]\n",
      " [1. 1. 1. ... 1. 1. 1.]]\n",
      "[[7 7 7 7]\n",
      " [7 7 7 7]\n",
      " [7 7 7 7]\n",
      " [7 7 7 7]]\n"
     ]
    }
   ],
   "source": [
    "mzero = np.zeros((3,3))\n",
    "mone = np.ones((1000,1000))\n",
    "mfull = np.full((4,4),7)\n",
    "print(mzero)\n",
    "print(mone)\n",
    "print(mfull)\n"
   ]
  },
  {
   "cell_type": "code",
   "execution_count": 38,
   "id": "26f7edd5",
   "metadata": {},
   "outputs": [
    {
     "name": "stdout",
     "output_type": "stream",
     "text": [
      "[[1 2 3]\n",
      " [4 5 6]\n",
      " [7 8 9]]\n",
      "[[1]\n",
      " [2]\n",
      " [3]\n",
      " [4]\n",
      " [5]\n",
      " [6]\n",
      " [7]\n",
      " [8]\n",
      " [9]]\n",
      "[1 2 3 4 5 6 7 8 9]\n"
     ]
    }
   ],
   "source": [
    "data= np.array([[1,2,3],[4,5,6,],[7,8,9]])\n",
    "ms = data.reshape((9,1))\n",
    "mf = data.flatten()\n",
    "\n",
    "print(data)\n",
    "print(ms)\n",
    "print(mf)"
   ]
  },
  {
   "cell_type": "code",
   "execution_count": 40,
   "id": "4015a119",
   "metadata": {},
   "outputs": [
    {
     "ename": "SyntaxError",
     "evalue": "invalid syntax (814128428.py, line 11)",
     "output_type": "error",
     "traceback": [
      "\u001b[1;36m  Input \u001b[1;32mIn [40]\u001b[1;36m\u001b[0m\n\u001b[1;33m    print(\"\\nDataFrame (5 teratas):\")\u001b[0m\n\u001b[1;37m    ^\u001b[0m\n\u001b[1;31mSyntaxError\u001b[0m\u001b[1;31m:\u001b[0m invalid syntax\n"
     ]
    }
   ],
   "source": [
    "jmld = 1000\n",
    "gender = np.random.choice([\"man\",\"woman\"],size = jmld)\n",
    "transaksi = np.random.randint(0, 51, size=jmld) \n",
    "bayar = np.random.choice([\"buruk\", \"sedang\", \"baik\"], size=jmld)\n",
    "usia = np.random.randint(12, 61, size=jmld)\n",
    "df= pd.DataFrame({\n",
    "    'gender': gender,\n",
    "    'transaksi': transaksi,\n",
    "    'bayar': bayar,\n",
    "    'usia': usia\n",
    "print(\"\\nDataFrame (5 teratas):\")\n",
    "print(df.head())\n",
    "})"
   ]
  },
  {
   "cell_type": "code",
   "execution_count": null,
   "id": "4b8a8538",
   "metadata": {},
   "outputs": [],
   "source": []
  },
  {
   "cell_type": "code",
   "execution_count": null,
   "id": "0425933f",
   "metadata": {},
   "outputs": [],
   "source": []
  }
 ],
 "metadata": {
  "kernelspec": {
   "display_name": "Python 3 (ipykernel)",
   "language": "python",
   "name": "python3"
  },
  "language_info": {
   "codemirror_mode": {
    "name": "ipython",
    "version": 3
   },
   "file_extension": ".py",
   "mimetype": "text/x-python",
   "name": "python",
   "nbconvert_exporter": "python",
   "pygments_lexer": "ipython3",
   "version": "3.9.12"
  }
 },
 "nbformat": 4,
 "nbformat_minor": 5
}
