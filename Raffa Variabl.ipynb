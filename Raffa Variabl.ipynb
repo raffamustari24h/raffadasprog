{
 "cells": [
  {
   "cell_type": "code",
   "execution_count": 17,
   "id": "0814d394",
   "metadata": {},
   "outputs": [
    {
     "name": "stdout",
     "output_type": "stream",
     "text": [
      "Nama: Rapaa\n",
      "Alamat: Perum baros\n",
      "Umur: 18\n",
      "nilai: 0\n",
      "Nikah: True\n",
      "no rumah: 12\n"
     ]
    }
   ],
   "source": [
    "name = \"Rapaa\"\n",
    "adress,no_rumah = \"Perum baros\",\"12\"\n",
    "age = \"18\"\n",
    "score = 0\n",
    "ismarried = True\n",
    "\n",
    "print(\"Nama:\",name)\n",
    "print(\"Alamat:\",adress)\n",
    "print(\"Umur:\",age)\n",
    "print(\"nilai:\",score)\n",
    "print(\"Nikah:\",ismarried)\n",
    "print(\"no rumah:\",no_rumah)\n"
   ]
  },
  {
   "cell_type": "code",
   "execution_count": 10,
   "id": "5f1d0910",
   "metadata": {},
   "outputs": [
    {
     "name": "stdout",
     "output_type": "stream",
     "text": [
      "tipe data <name>: <class 'str'>\n",
      "tipe data <adress>: <class 'str'>\n",
      "tipe data <age>: <class 'str'>\n",
      "tipe data <score>: <class 'int'>\n",
      "tipe data <ismarried> <class 'bool'>\n"
     ]
    }
   ],
   "source": [
    "print(\"tipe data <name>:\",type(name))\n",
    "print(\"tipe data <adress>:\",type(adress))\n",
    "print(\"tipe data <age>:\",type (age))\n",
    "print(\"tipe data <score>:\",type (score))\n",
    "print(\"tipe data <ismarried>\",type (ismarried))\n"
   ]
  },
  {
   "cell_type": "code",
   "execution_count": 14,
   "id": "b251966f",
   "metadata": {},
   "outputs": [
    {
     "name": "stdout",
     "output_type": "stream",
     "text": [
      "1_18.0\n"
     ]
    }
   ],
   "source": [
    "strToint = int(score)\n",
    "strTobool = bool(ismarried)\n",
    "strTofloat = float(age)\n",
    "print(strToint + strTobool,strTofloat, sep =\"_\"  )"
   ]
  },
  {
   "cell_type": "code",
   "execution_count": 21,
   "id": "2e73a1bb",
   "metadata": {},
   "outputs": [
    {
     "name": "stdout",
     "output_type": "stream",
     "text": [
      "nilai desimal: 500\n",
      "nilai octal: 255\n",
      "nilai biner: 10\n",
      "nilai hexa: 255\n",
      "binnr 500 : 0b111110100\n",
      "octal 500 : 0o764\n",
      "hexa 500 : 0x1f4\n"
     ]
    }
   ],
   "source": [
    "desimal = 500\n",
    "biner = 0b1010\n",
    "octal = 0o377\n",
    "hexa = 0xff\n",
    "\n",
    "print(\"nilai desimal:\",desimal)\n",
    "print(\"nilai octal:\",octal)\n",
    "print(\"nilai biner:\",biner)\n",
    "print(\"nilai hexa:\",hexa)\n",
    "\n",
    "print(\"binnr\",desimal, \":\",bin(desimal))\n",
    "print(\"octal\",desimal, \":\",oct(desimal))\n",
    "print(\"hexa\",desimal, \":\",hex(desimal))"
   ]
  },
  {
   "cell_type": "code",
   "execution_count": 23,
   "id": "6de741b8",
   "metadata": {},
   "outputs": [
    {
     "name": "stdout",
     "output_type": "stream",
     "text": [
      "c\n",
      "7\n",
      "g\n"
     ]
    }
   ],
   "source": [
    "i= \"cicurug\"\n",
    "a= len(i)\n",
    "print(i[0])\n",
    "print(a)\n",
    "print(i [a-1])"
   ]
  },
  {
   "cell_type": "code",
   "execution_count": 33,
   "id": "c6bc4126",
   "metadata": {},
   "outputs": [
    {
     "name": "stdout",
     "output_type": "stream",
     "text": [
      "['apel', 'alpukat', 'anggur']\n",
      "apel\n",
      "anggur\n",
      "a\n",
      "r\n"
     ]
    }
   ],
   "source": [
    "o = [\"apel\",\"alpukat\",\"anggur\"]\n",
    "ob = len(o)\n",
    "print(o)\n",
    "print(o[0])\n",
    "print(o[ob-1])\n",
    "print(o[ob-1][0])\n",
    "print(o[ob-1][len(o[ob-1])-1])\n"
   ]
  },
  {
   "cell_type": "code",
   "execution_count": 50,
   "id": "d81ae328",
   "metadata": {},
   "outputs": [
    {
     "name": "stdout",
     "output_type": "stream",
     "text": [
      "('aio', 'asa', 'Raffa')\n",
      "asa\n",
      "{'nama': 'rappa', 'umur': 18, 'hobi': ['mimpi ', 'baca buku dojin', 'Gooning'], 'alamat': {'perum': 'baros', 'provinsi': 'jabar', 'kota': 'sukabumi'}, 'Nikah': True}\n",
      "rappa\n",
      "18\n",
      "baros\n",
      "True\n",
      "Gooning\n"
     ]
    }
   ],
   "source": [
    "nameg = (\"aio\",\"asa\",\"Raffa\")\n",
    "print(nameg)\n",
    "print(nameg[1])\n",
    "\n",
    "\n",
    "\n",
    "\n",
    "student_data ={\n",
    "    \"nama\" : \"rappa\",\n",
    "    \"umur\" : 18,\n",
    "    \"hobi\" : [\"mimpi \", \"baca buku dojin\",\"Gooning\"],\n",
    "    \"alamat\" :{\n",
    "        \"perum\" : \"baros\",\n",
    "        \"provinsi\" : \"jabar\",\n",
    "        \"kota\" : \"sukabumi\"\n",
    "        \n",
    "    },\n",
    "    \"Nikah\" : True   \n",
    "        }\n",
    "print(student_data)\n",
    "print(student_data[\"nama\"])\n",
    "print(student_data[\"umur\"])\n",
    "print(student_data[\"alamat\"][\"perum\"])\n",
    "print(student_data[\"Nikah\"])\n",
    "print(student_data[\"hobi\"][2])\n"
   ]
  },
  {
   "cell_type": "code",
   "execution_count": 53,
   "id": "773b4c88",
   "metadata": {},
   "outputs": [
    {
     "name": "stdout",
     "output_type": "stream",
     "text": [
      "{'Nama': 'rafa', 'Istri': 'asa', 'status': True}\n",
      "{'nama': 'rapa', 'alamat': 'skbmi'}\n",
      "{'jenis': 'Yuda', 'type': 'pedofilia'}\n",
      "{'nama': 'yuda', 'Jenis': 'hewan berkaki 3'}\n",
      "{'kendaraan': 'mobil', 'brand': 'tokia', 'ip': 2500}\n"
     ]
    }
   ],
   "source": [
    "\n",
    "l_l = [[\"Nama\", \"rafa\"], [\"Istri\", \"asa\"], [\"status\", True]]\n",
    "dls = dict(l_l)\n",
    "print(dls)\n",
    "\n",
    "\n",
    "l_t = [(\"nama\", \"rapa\"), (\"alamat\", \"skbmi\")]\n",
    "dts = dict(l_t)\n",
    "print(dts)\n",
    "\n",
    "\n",
    "t_l = ([\"jenis\", \"Yuda\"], [\"type\", \"pedofilia\"])\n",
    "dtl = dict(t_l)\n",
    "print(dtl)\n",
    "\n",
    "\n",
    "t_t = ((\"nama\", \"yuda\"), (\"Jenis\", \"hewan berkaki 3\"))\n",
    "dtt = dict(t_t)\n",
    "print(dtt)\n",
    "\n",
    "\n",
    "keys = [\"kendaraan\", \"brand\", \"ip\"]\n",
    "values = [\"mobil\", \"tokia\", 2500]\n",
    "car = dict(zip(keys, values))\n",
    "print(car)\n"
   ]
  },
  {
   "cell_type": "code",
   "execution_count": null,
   "id": "2369fa3a",
   "metadata": {},
   "outputs": [],
   "source": []
  }
 ],
 "metadata": {
  "kernelspec": {
   "display_name": "Python 3 (ipykernel)",
   "language": "python",
   "name": "python3"
  },
  "language_info": {
   "codemirror_mode": {
    "name": "ipython",
    "version": 3
   },
   "file_extension": ".py",
   "mimetype": "text/x-python",
   "name": "python",
   "nbconvert_exporter": "python",
   "pygments_lexer": "ipython3",
   "version": "3.9.12"
  }
 },
 "nbformat": 4,
 "nbformat_minor": 5
}
