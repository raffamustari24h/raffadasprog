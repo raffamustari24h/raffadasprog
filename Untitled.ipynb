{
 "cells": [
  {
   "cell_type": "markdown",
   "id": "098ae259",
   "metadata": {},
   "source": [
    "<center><img src=\"https://i.pinimg.com/736x/77/5b/cc/775bcc4b7dc2614b7f944a2528241896.jpg\" width=\"300\" ></center><br>pada jupiter jenis notebook  <b>cell</b>  <ol>\n",
    "    <li>M (mark down) -> m</li>\n",
    "    <li>Y (CODE)  -> Y </li>\n",
    "  </ol>\n",
    "  <hr>"
   ]
  },
  {
   "cell_type": "markdown",
   "id": "c595c1c8",
   "metadata": {},
   "source": [
    "cara menambahkan <b>celll</b> terbagi menjadi dua yaitu:\n",
    "    <ul>\n",
    "    <li> <b> A  </b> -(above) menambah diatas cell aktif</li>\n",
    "    <li><b>b </b>-(ellow) memabah dibawah cell</li>\n",
    "    </ul>\n",
    "    <table>\n",
    "    <tr>\n",
    "        <td>uyuy</td>\n",
    "        <td>oioi</td>\n",
    "    </tr>\n",
    "    <tr> \n",
    "        <td>ctrl + enter </td>\n",
    "        <td>running program dengan fokus di cell aktif</td>\n",
    "    </tr>\n",
    "    <tr>       \n",
    "    <td> shift + enter </td>\n",
    "    <td> running program dengan fokus di cell berikut </td>\n",
    "    </tr>\n",
    "    </table>\n",
    "         \n",
    "         \n",
    "    "
   ]
  },
  {
   "cell_type": "code",
   "execution_count": 9,
   "id": "0c0de755",
   "metadata": {},
   "outputs": [
    {
     "name": "stdout",
     "output_type": "stream",
     "text": [
      "aku suka pemograman  dasar\n",
      "yay\n"
     ]
    }
   ],
   "source": [
    "#this is coment\n",
    "print (\"aku suka pemograman  dasar\")\n",
    "data = \"yay\"\n",
    "print(data)\n"
   ]
  },
  {
   "cell_type": "code",
   "execution_count": null,
   "id": "3408dc29",
   "metadata": {},
   "outputs": [],
   "source": []
  }
 ],
 "metadata": {
  "kernelspec": {
   "display_name": "Python 3 (ipykernel)",
   "language": "python",
   "name": "python3"
  },
  "language_info": {
   "codemirror_mode": {
    "name": "ipython",
    "version": 3
   },
   "file_extension": ".py",
   "mimetype": "text/x-python",
   "name": "python",
   "nbconvert_exporter": "python",
   "pygments_lexer": "ipython3",
   "version": "3.9.12"
  }
 },
 "nbformat": 4,
 "nbformat_minor": 5
}
